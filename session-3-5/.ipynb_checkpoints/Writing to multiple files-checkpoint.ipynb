{
 "cells": [
  {
   "cell_type": "markdown",
   "metadata": {},
   "source": [
    "On Tuesday we worked on writing to a single file. Sometimes, like in our case, you want to write to multiple files in a loop. There are a few ways to do this. \n",
    "\n",
    "First, let's review how to write to a single file. Using a loop, write anything to a single file:"
   ]
  },
  {
   "cell_type": "code",
   "execution_count": 1,
   "metadata": {},
   "outputs": [],
   "source": [
    "# Do that here:\n",
    "my_file = open('lynette.txt', \"w\")\n",
    "\n",
    "\n",
    "my_file.write(\"Hey my name is Lynette Matha Jeem i am 16, How old are you?\")\n",
    "\n",
    "my_file.close()\n"
   ]
  },
  {
   "cell_type": "markdown",
   "metadata": {},
   "source": [
    "Writing to multiple files is similar. The main difference is you have to \n",
    "* **specify the name and location for each file**, \n",
    "\n",
    "and you also have to \n",
    "* **open and close the file in the loop.** \n",
    "\n",
    "Here is an example :"
   ]
  },
  {
   "cell_type": "code",
   "execution_count": 2,
   "metadata": {},
   "outputs": [],
   "source": [
    "for i in range(0,10):\n",
    "    my_file = open(\"file_\"+str(i)+\".txt\",\"w\")\n",
    "    my_file.write(\"this file has writing in it\\n\")\n",
    "    my_file.close()\n"
   ]
  },
  {
   "cell_type": "markdown",
   "metadata": {},
   "source": [
    "In finder, look in the directory we are currently in (session-3-5). You should see 10 files. Make sure what you see makes sense to you. Explain what you see to your neighbor.\n",
    "\n",
    "Now try it yourself. First try using a loop to write 4 files in the same way I did above:"
   ]
  },
  {
   "cell_type": "code",
   "execution_count": null,
   "metadata": {},
   "outputs": [],
   "source": [
    "# do that here:\n",
    "for i in range(0,4):\n",
    "    my_file = open(\"file#\"+str(i)\".txt\",\"w\")\n",
    "    my_file.write(\"Hi there did i do it?\")\n",
    "    my_file.close"
   ]
  },
  {
   "cell_type": "markdown",
   "metadata": {},
   "source": [
    "Other ideas to be aware of: \n",
    "\n",
    "1. Using the same index to index multiple lists:"
   ]
  },
  {
   "cell_type": "code",
   "execution_count": null,
   "metadata": {},
   "outputs": [],
   "source": [
    "file_titles = ['first_file.txt','second_file.txt','third_file.txt',\n",
    "               'fourth_file.txt','fifth_file.txt','sixth_file.txt']\n",
    "file_contents = ['Isabel','Gladys','Kai','Shanique','Lynette','Tadelin']\n",
    "\n",
    "for i in range(0,6):\n",
    "    my_file = open(file_titles[i],\"w\")\n",
    "    my_file.write(\"Name: \" +file_contents[i])\n",
    "    my_file.write('\\n blah blah blah')\n",
    "    my_file.close()"
   ]
  },
  {
   "cell_type": "markdown",
   "metadata": {},
   "source": [
    "2. You can send files to other places other than the current directory:"
   ]
  },
  {
   "cell_type": "code",
   "execution_count": null,
   "metadata": {},
   "outputs": [],
   "source": [
    "my_file=open('/Users/brownscholar/Downloads/secret_file.txt',\"w\")\n",
    "my_file.write(\"this is a test secret file\")\n",
    "my_file.close()"
   ]
  },
  {
   "cell_type": "markdown",
   "metadata": {},
   "source": [
    "Using all these ideas (writing to multiple files, using the same index on multiple lists, writing to a certain place on your computer), write 5 files of your choice for practice. "
   ]
  },
  {
   "cell_type": "code",
   "execution_count": null,
   "metadata": {},
   "outputs": [],
   "source": [
    "# do this here:\n"
   ]
  },
  {
   "cell_type": "code",
   "execution_count": null,
   "metadata": {},
   "outputs": [],
   "source": []
  }
 ],
 "metadata": {
  "kernelspec": {
   "display_name": "Python 3",
   "language": "python",
   "name": "python3"
  },
  "language_info": {
   "codemirror_mode": {
    "name": "ipython",
    "version": 3
   },
   "file_extension": ".py",
   "mimetype": "text/x-python",
   "name": "python",
   "nbconvert_exporter": "python",
   "pygments_lexer": "ipython3",
   "version": "3.7.3"
  }
 },
 "nbformat": 4,
 "nbformat_minor": 2
}
