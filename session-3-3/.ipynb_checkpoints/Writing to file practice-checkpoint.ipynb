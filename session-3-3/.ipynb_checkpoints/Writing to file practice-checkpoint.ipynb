{
 "cells": [
  {
   "cell_type": "markdown",
   "metadata": {},
   "source": [
    "Sometimes you want to use coding to **create files.** Using coding to write to file is especially useful when the files you are writing have some repetative structure.\n",
    "\n",
    "To open a file for writing:\n",
    "\n",
    "``my_file = open('path/to/file',\"w\")``\n",
    "\n",
    "* The \"w\" stands for \"write\", meaning we are going to write to this file\n",
    "\n",
    "* You can also put \"a\" for append or \"r\" for read. If the file you specify doesn't exist, Python will create a file of that name. \n",
    "\n",
    "* a note: In this case the **'path/to/file'** is the **name and location** of the file, and the my_file is called a **file object**\n",
    "\n",
    "Try it. Open a file called \"test_file.txt\":"
   ]
  },
  {
   "cell_type": "code",
   "execution_count": 2,
   "metadata": {},
   "outputs": [],
   "source": [
    "# open a file here:\n"
   ]
  },
  {
   "cell_type": "markdown",
   "metadata": {},
   "source": [
    "To write to a file, you use \n",
    "\n",
    "``my_file.write(\"whatever text you want to write to file\")``  \n",
    "\n",
    "Try it. Write anything to your file:"
   ]
  },
  {
   "cell_type": "code",
   "execution_count": 3,
   "metadata": {},
   "outputs": [],
   "source": [
    "# write to your file here:\n"
   ]
  },
  {
   "cell_type": "markdown",
   "metadata": {},
   "source": [
    "At the end of writing, you need to close your file:\n",
    "\n",
    "`` my_file.close()``"
   ]
  },
  {
   "cell_type": "code",
   "execution_count": 4,
   "metadata": {},
   "outputs": [],
   "source": [
    "# close your file here"
   ]
  },
  {
   "cell_type": "markdown",
   "metadata": {},
   "source": [
    "Now, in finder, find the file called 'test_file.txt' and open it in Sublime or TextEdit. Note how the contents look. Does it look like how you would expect?\n",
    "\n",
    "* Note: If you want to put a new line in your file, you use ``\\n``\n",
    "\n",
    "Example: ``my_file.write(\"this is \\n example text\")``\n",
    "\n",
    "My file should contain:\n",
    "\n",
    "\n",
    "this is \n",
    "\n",
    "example text"
   ]
  },
  {
   "cell_type": "markdown",
   "metadata": {},
   "source": [
    "-----\n",
    "\n",
    "Another thing you can do is write to file in loop. Here is an example:"
   ]
  },
  {
   "cell_type": "code",
   "execution_count": 10,
   "metadata": {},
   "outputs": [],
   "source": [
    "my_file = open(\"test_file.txt\",\"w\")"
   ]
  },
  {
   "cell_type": "code",
   "execution_count": 11,
   "metadata": {},
   "outputs": [],
   "source": [
    "for i in range(0,10):\n",
    "    my_file.write(str(i))"
   ]
  },
  {
   "cell_type": "code",
   "execution_count": 12,
   "metadata": {},
   "outputs": [],
   "source": [
    "my_file.close()"
   ]
  },
  {
   "cell_type": "markdown",
   "metadata": {},
   "source": [
    "Look in the directory in finder and see what is in the file \"test_file.txt\""
   ]
  },
  {
   "cell_type": "markdown",
   "metadata": {},
   "source": [
    "Now try it yourself. Open a file (title the file with your name.txt) and write the following to it using a loop:\n",
    "\n",
    "This is line 1\n",
    "\n",
    "This is line 2\n",
    "\n",
    "This is line 3\n",
    "\n",
    "This is line 4\n",
    "\n",
    "This is line 5"
   ]
  },
  {
   "cell_type": "code",
   "execution_count": 13,
   "metadata": {},
   "outputs": [],
   "source": [
    "# Do that here: "
   ]
  },
  {
   "cell_type": "markdown",
   "metadata": {},
   "source": [
    "Now for fun, create a file with anything you want. Feel free to add special characters (you can google \"python degree sign\" or whatever kind of special character you want). "
   ]
  },
  {
   "cell_type": "code",
   "execution_count": null,
   "metadata": {},
   "outputs": [],
   "source": [
    "# make and write to fun file here:\n"
   ]
  }
 ],
 "metadata": {
  "kernelspec": {
   "display_name": "Python 3",
   "language": "python",
   "name": "python3"
  },
  "language_info": {
   "codemirror_mode": {
    "name": "ipython",
    "version": 3
   },
   "file_extension": ".py",
   "mimetype": "text/x-python",
   "name": "python",
   "nbconvert_exporter": "python",
   "pygments_lexer": "ipython3",
   "version": "3.5.6"
  }
 },
 "nbformat": 4,
 "nbformat_minor": 2
}
