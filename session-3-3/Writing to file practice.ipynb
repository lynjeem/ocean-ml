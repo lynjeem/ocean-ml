{
 "cells": [
  {
   "cell_type": "markdown",
   "metadata": {},
   "source": [
    "# Writing to a file \n",
    "Sometimes you want to use coding to **create files.** Using coding to write to file is especially useful when the files you are writing have some repetative structure.\n",
    "\n",
    "To open a file for writing:\n",
    "\n",
    "``my_file = open('path/to/file',\"w\")``\n",
    "\n",
    "* The \"w\" stands for \"write\", meaning we are going to write to this file\n",
    "\n",
    "* You can also put \"a\" for append or \"r\" for read. If the file you specify doesn't exist, Python will create a file of that name. \n",
    "\n",
    "* a note: In this case the **'path/to/file'** is the **name and location** of the file, and the my_file is called a **file object**\n",
    "\n",
    "* you can name the **file object** anything you want (just like normally... you can call a variable anything you want)\n",
    "\n",
    "Try it. Open a file called \"test_file.txt\":"
   ]
  },
  {
   "cell_type": "code",
   "execution_count": 2,
   "metadata": {},
   "outputs": [],
   "source": [
    "# open a file here:\n"
   ]
  },
  {
   "cell_type": "markdown",
   "metadata": {},
   "source": [
    "To write to a file, you use \n",
    "\n",
    "``my_file.write(\"whatever text you want to write to file\")``  \n",
    "\n",
    "Try it. Write anything to your file:"
   ]
  },
  {
   "cell_type": "code",
   "execution_count": 3,
   "metadata": {},
   "outputs": [],
   "source": [
    "# write to your file here:\n"
   ]
  },
  {
   "cell_type": "markdown",
   "metadata": {},
   "source": [
    "At the end of writing, you need to close your file:\n",
    "\n",
    "`` my_file.close()``"
   ]
  },
  {
   "cell_type": "code",
   "execution_count": 4,
   "metadata": {},
   "outputs": [],
   "source": [
    "# close your file here"
   ]
  },
  {
   "cell_type": "markdown",
   "metadata": {},
   "source": [
    "Now, in finder, find the file called 'test_file.txt' and open it in Sublime or TextEdit. Note how the contents look. Does it look like how you would expect?\n",
    "\n",
    "* Note: If you want to put a new line in your file, you use ``\\n``\n",
    "\n",
    "Example: ``my_file.write(\"this is \\n example text\")``\n",
    "\n",
    "My file should contain:\n",
    "\n",
    "\n",
    "this is \n",
    "\n",
    "example text"
   ]
  },
  {
   "cell_type": "markdown",
   "metadata": {},
   "source": [
    "-----\n",
    "\n",
    "Another thing you can do is write to file in loop. Here is an example:"
   ]
  },
  {
   "cell_type": "code",
   "execution_count": 10,
   "metadata": {},
   "outputs": [],
   "source": [
    "my_file = open(\"test_file.txt\",\"w\")"
   ]
  },
  {
   "cell_type": "code",
   "execution_count": 11,
   "metadata": {},
   "outputs": [],
   "source": [
    "for i in range(0,10):\n",
    "    my_file.write(str(i))"
   ]
  },
  {
   "cell_type": "code",
   "execution_count": 12,
   "metadata": {},
   "outputs": [],
   "source": [
    "my_file.close()"
   ]
  },
  {
   "cell_type": "markdown",
   "metadata": {},
   "source": [
    "Look in the directory in finder and see what is in the file \"test_file.txt\""
   ]
  },
  {
   "cell_type": "markdown",
   "metadata": {},
   "source": [
    "Now try it yourself. Open a file (title the file with your name.txt) and write the following to it using a loop: (you can make it write more than 5 lines if you want)\n",
    "\n",
    "This is line 1\n",
    "\n",
    "This is line 2\n",
    "\n",
    "This is line 3\n",
    "\n",
    "This is line 4\n",
    "\n",
    "This is line 5\n"
   ]
  },
  {
   "cell_type": "code",
   "execution_count": 13,
   "metadata": {},
   "outputs": [],
   "source": [
    "# Do that here: "
   ]
  },
  {
   "cell_type": "markdown",
   "metadata": {},
   "source": [
    "Now for fun, create a file with anything you want. Feel free to add special characters (you can google \"python degree sign\" or whatever kind of special character you want). "
   ]
  },
  {
   "cell_type": "code",
   "execution_count": 14,
   "metadata": {},
   "outputs": [],
   "source": [
    "# make and write to fun file here:\n"
   ]
  },
  {
   "cell_type": "markdown",
   "metadata": {},
   "source": [
    "-------------\n",
    "# Reading from a file \n",
    "Similarly to writing to a file, we also use file objects to read from file. In your directory (session-3-3) there is a file called \"the_ocean.txt\".  We can open it like this:"
   ]
  },
  {
   "cell_type": "code",
   "execution_count": 15,
   "metadata": {},
   "outputs": [],
   "source": [
    "my_file = open('the_ocean.txt',\"r\")"
   ]
  },
  {
   "cell_type": "markdown",
   "metadata": {},
   "source": [
    "In this case, what does the r stand for?\n",
    "\n",
    "Once we have the file open, we can use the function ``readline()`` to read the file line by line. This function just prints the next line in the file:"
   ]
  },
  {
   "cell_type": "code",
   "execution_count": 17,
   "metadata": {},
   "outputs": [
    {
     "name": "stdout",
     "output_type": "stream",
     "text": [
      "The Ocean\n",
      "\n"
     ]
    }
   ],
   "source": [
    "print(my_file.readline())"
   ]
  },
  {
   "cell_type": "markdown",
   "metadata": {},
   "source": [
    "We can print more than one line by calling ``readline()`` in a loop like this:"
   ]
  },
  {
   "cell_type": "code",
   "execution_count": 22,
   "metadata": {},
   "outputs": [
    {
     "name": "stdout",
     "output_type": "stream",
     "text": [
      "Hold their communion there;\n",
      "\n",
      "And there are those for whom we weep,\n",
      "\n",
      "The young, the bright, the fair.\n",
      "\n",
      "\n",
      "\n",
      "Calmly the wearied seamen rest\n",
      "\n",
      "Beneath their own blue sea.\n",
      "\n",
      "The ocean solitudes are blest,\n",
      "\n",
      "For there is purity.\n",
      "\n"
     ]
    }
   ],
   "source": [
    "for i in range(0,8):\n",
    "    print(my_file.readline())"
   ]
  },
  {
   "cell_type": "markdown",
   "metadata": {},
   "source": [
    "Once you're done reading the file, you have to close it, just like in writing: "
   ]
  },
  {
   "cell_type": "code",
   "execution_count": 23,
   "metadata": {},
   "outputs": [],
   "source": [
    "my_file.close()"
   ]
  },
  {
   "cell_type": "markdown",
   "metadata": {},
   "source": [
    "Try it yourself. Read in the file you wrote line by line"
   ]
  },
  {
   "cell_type": "code",
   "execution_count": 21,
   "metadata": {},
   "outputs": [],
   "source": [
    "# do that here"
   ]
  },
  {
   "cell_type": "code",
   "execution_count": null,
   "metadata": {},
   "outputs": [],
   "source": []
  }
 ],
 "metadata": {
  "kernelspec": {
   "display_name": "Python 3",
   "language": "python",
   "name": "python3"
  },
  "language_info": {
   "codemirror_mode": {
    "name": "ipython",
    "version": 3
   },
   "file_extension": ".py",
   "mimetype": "text/x-python",
   "name": "python",
   "nbconvert_exporter": "python",
   "pygments_lexer": "ipython3",
   "version": "3.5.6"
  }
 },
 "nbformat": 4,
 "nbformat_minor": 2
}
