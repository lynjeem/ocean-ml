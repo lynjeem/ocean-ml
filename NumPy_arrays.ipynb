{
 "cells": [
  {
   "cell_type": "markdown",
   "metadata": {},
   "source": [
    "# What are NumPy arrays?\n",
    "The NumPy library is the core library for scientific computing using Python. Scientists who use large datasets (us!) like to use NumPy because it has good tools for working with high dimensional arrays."
   ]
  },
  {
   "cell_type": "markdown",
   "metadata": {},
   "source": [
    "### Starting with 1D arrays\n",
    "![1D array](https://www.dyclassroom.com/image/topic/java/array/1d/1d-array.jpg)"
   ]
  },
  {
   "cell_type": "code",
   "execution_count": 3,
   "metadata": {},
   "outputs": [
    {
     "name": "stdout",
     "output_type": "stream",
     "text": [
      "[1 2 3 4 5]\n"
     ]
    }
   ],
   "source": [
    "import numpy as np\n",
    "a = np.array([1, 2, 3, 4, 5])\n",
    "print(a)"
   ]
  },
  {
   "cell_type": "markdown",
   "metadata": {},
   "source": [
    "Review: \n",
    "1. Write the code that will print the number '4':\n",
    "2. Write the code that will create and print an array with 3, 4, 5 "
   ]
  },
  {
   "cell_type": "code",
   "execution_count": 4,
   "metadata": {},
   "outputs": [],
   "source": [
    "# 1."
   ]
  },
  {
   "cell_type": "code",
   "execution_count": 14,
   "metadata": {},
   "outputs": [],
   "source": [
    "# 2. "
   ]
  },
  {
   "cell_type": "markdown",
   "metadata": {},
   "source": [
    "## What about 2D arrays? And 3D arrays?\n",
    "![3D](https://www.oreilly.com/library/view/elegant-scipy/9781491922927/assets/elsp_0105.png)"
   ]
  },
  {
   "cell_type": "markdown",
   "metadata": {},
   "source": [
    "# Here are some visuals to help you understand numpy arrays better\n"
   ]
  },
  {
   "cell_type": "markdown",
   "metadata": {},
   "source": [
    "### We'll first create a 4x5 array. "
   ]
  },
  {
   "cell_type": "code",
   "execution_count": 2,
   "metadata": {},
   "outputs": [
    {
     "name": "stdout",
     "output_type": "stream",
     "text": [
      "[[ 1  4  7 10 13]\n",
      " [16 19 22 25 28]\n",
      " [31 34 37 40 43]\n",
      " [46 49 52 55 58]]\n",
      "[ 1  4  7 10 13 16 19 22 25 28 31 34 37 40 43 46 49 52 55 58]\n"
     ]
    }
   ],
   "source": [
    "import numpy as np\n",
    "b=np.arange(1,60,3)\n",
    "a = np.arange(1,60,3).reshape(4,5)\n",
    "print(a)\n",
    "print(b)"
   ]
  },
  {
   "cell_type": "markdown",
   "metadata": {},
   "source": [
    "Our array, a, looks like this: \n",
    "\n",
    "![image](https://raw.githubusercontent.com/amnh/BridgeUP-STEM-Oceans-Six/master/photos/Screen%20Shot%202018-11-02%20at%205.23.03%20PM.png?token=AmUbDpWjSe4asRuC415N-d381PDnMuTAks5b7ahPwA%3D%3D)\n"
   ]
  },
  {
   "cell_type": "markdown",
   "metadata": {},
   "source": [
    "Now, what if we want to select a part of this array? For example, we want to select the element '25'? "
   ]
  },
  {
   "cell_type": "code",
   "execution_count": 2,
   "metadata": {},
   "outputs": [
    {
     "data": {
      "text/plain": [
       "25"
      ]
     },
     "execution_count": 2,
     "metadata": {},
     "output_type": "execute_result"
    }
   ],
   "source": [
    "a[1,3]"
   ]
  },
  {
   "cell_type": "markdown",
   "metadata": {},
   "source": [
    "It can help to think of your selection as an intersection of indices.\n",
    "\n",
    "![image](https://raw.githubusercontent.com/amnh/BridgeUP-STEM-Oceans-Six/master/photos/Screen%20Shot%202018-11-02%20at%205.40.45%20PM.png?token=AmUbDh80CPWOXWsxehydto2v0jYHJcWGks5b7ah5wA%3D%3D)"
   ]
  },
  {
   "cell_type": "markdown",
   "metadata": {},
   "source": [
    "Now, let's try selecting just the first row."
   ]
  },
  {
   "cell_type": "code",
   "execution_count": 3,
   "metadata": {},
   "outputs": [
    {
     "data": {
      "text/plain": [
       "array([ 1,  4,  7, 10, 13])"
      ]
     },
     "execution_count": 3,
     "metadata": {},
     "output_type": "execute_result"
    }
   ],
   "source": [
    "a[0,:]"
   ]
  },
  {
   "cell_type": "markdown",
   "metadata": {},
   "source": [
    "![image](https://raw.githubusercontent.com/amnh/BridgeUP-STEM-Oceans-Six/master/photos/firstrow.png?token=AmUbDqPS-gD5MuRbGX9qog99B0RbkvFMks5b7aiNwA%3D%3D)"
   ]
  },
  {
   "cell_type": "markdown",
   "metadata": {},
   "source": [
    "What if we want to select the fifth column? "
   ]
  },
  {
   "cell_type": "code",
   "execution_count": 5,
   "metadata": {},
   "outputs": [
    {
     "data": {
      "text/plain": [
       "array([13, 28, 43, 58])"
      ]
     },
     "execution_count": 5,
     "metadata": {},
     "output_type": "execute_result"
    }
   ],
   "source": [
    "a[:,4]"
   ]
  },
  {
   "cell_type": "markdown",
   "metadata": {},
   "source": [
    "![image](https://raw.githubusercontent.com/amnh/BridgeUP-STEM-Oceans-Six/master/photos/lastcolumn.png?token=AmUbDsXOpKqJbn9QlEKgnIcbXtXsaoUAks5b7aibwA%3D%3D)"
   ]
  },
  {
   "cell_type": "markdown",
   "metadata": {},
   "source": [
    "Now, what if we want to select part of a column or row? Here is where the colon notation gets tricky.\n",
    "\n",
    "I want to return the elements '22' and '37', in their own array. Using colon notation can return a range of values. \n",
    "\n",
    "However, Python uses what we call an \"uninclusive\" range. The last number in any user-specified range is not included, by default.\n",
    "\n",
    "For example, using the \"range\" function, such as `range(0, 10)`, returns the numbers 0 through 9. "
   ]
  },
  {
   "cell_type": "code",
   "execution_count": 15,
   "metadata": {},
   "outputs": [
    {
     "name": "stdout",
     "output_type": "stream",
     "text": [
      "0\n",
      "1\n",
      "2\n",
      "3\n",
      "4\n",
      "5\n",
      "6\n",
      "7\n",
      "8\n",
      "9\n"
     ]
    }
   ],
   "source": [
    "for i in range(0,10):\n",
    "    print(i)"
   ]
  },
  {
   "cell_type": "markdown",
   "metadata": {},
   "source": [
    "How do we select '22' and '37'? What is the intersection we're looking for?"
   ]
  },
  {
   "cell_type": "code",
   "execution_count": 16,
   "metadata": {},
   "outputs": [
    {
     "data": {
      "text/plain": [
       "array([22, 25, 28])"
      ]
     },
     "execution_count": 16,
     "metadata": {},
     "output_type": "execute_result"
    }
   ],
   "source": [
    "a[1,2:5]"
   ]
  },
  {
   "cell_type": "markdown",
   "metadata": {},
   "source": [
    "![image](https://raw.githubusercontent.com/amnh/BridgeUP-STEM-Oceans-Six/master/photos/partofcolumn.png?token=AmUbDuIihl2TPdYe2k_HE-ytjShglXQ3ks5b7aiswA%3D%3D)"
   ]
  },
  {
   "cell_type": "markdown",
   "metadata": {},
   "source": [
    "# Practice: \n",
    "1. Create 2 dimensional array with dimensions 3 x 4, containing numbers 1-12\n",
    "2. Print the first row of this array. \n",
    "3. Print the number 10\n",
    "4. Print the second column of this array"
   ]
  },
  {
   "cell_type": "code",
   "execution_count": 10,
   "metadata": {},
   "outputs": [],
   "source": [
    "# 1. "
   ]
  },
  {
   "cell_type": "code",
   "execution_count": 11,
   "metadata": {},
   "outputs": [],
   "source": [
    "# 2. "
   ]
  },
  {
   "cell_type": "code",
   "execution_count": 12,
   "metadata": {},
   "outputs": [],
   "source": [
    "# 3. "
   ]
  },
  {
   "cell_type": "code",
   "execution_count": 13,
   "metadata": {},
   "outputs": [],
   "source": [
    "# 4. "
   ]
  },
  {
   "cell_type": "markdown",
   "metadata": {},
   "source": [
    "![image](https://www.trzcacak.rs/file/max/96/964354_white-divider-line-png.png)"
   ]
  },
  {
   "cell_type": "markdown",
   "metadata": {},
   "source": [
    "## What about 3D arrays?\n",
    "### We'll first create a 2x2x5 array."
   ]
  },
  {
   "cell_type": "code",
   "execution_count": 20,
   "metadata": {},
   "outputs": [],
   "source": [
    "a = np.arange(1,60,3).reshape(2,2,5)"
   ]
  },
  {
   "cell_type": "markdown",
   "metadata": {},
   "source": [
    "`a = array([[[ 1,  4,  7, 10, 13],\n",
    "        [16, 19, 22, 25, 28]],`\n",
    "\n",
    "       [[31, 34, 37, 40, 43],\n",
    "        [46, 49, 52, 55, 58]]])\n",
    "        \n",
    "Graphically, it looks like this. \n",
    "![image](https://raw.githubusercontent.com/amnh/BridgeUP-STEM-Oceans-Six/master/photos/Screen%20Shot%202018-11-02%20at%206.14.07%20PM.png?token=AmUbDrtNU8p2FFYj4UNlh7hBvBuiEt0bks5b7ajGwA%3D%3D)\n",
    "The array has 2 groups, which each have two rows and 5 columns.\n",
    "\n",
    "Suppose we want to select the values 31 and 46. What is the intersection that produces these values?"
   ]
  },
  {
   "cell_type": "code",
   "execution_count": 22,
   "metadata": {},
   "outputs": [
    {
     "data": {
      "text/plain": [
       "array([31, 46])"
      ]
     },
     "execution_count": 22,
     "metadata": {},
     "output_type": "execute_result"
    }
   ],
   "source": [
    "a[1,:,0]"
   ]
  },
  {
   "cell_type": "markdown",
   "metadata": {},
   "source": [
    "![image](https://raw.githubusercontent.com/amnh/BridgeUP-STEM-Oceans-Six/master/photos/Screen%20Shot%202018-11-02%20at%206.21.08%20PM.png?token=AmUbDmk8JrWSOYRqc2SlBxQsn7RpJKkxks5b7ajbwA%3D%3D)"
   ]
  },
  {
   "cell_type": "markdown",
   "metadata": {
    "collapsed": true
   },
   "source": [
    "## Some more challenges"
   ]
  },
  {
   "cell_type": "code",
   "execution_count": 6,
   "metadata": {},
   "outputs": [
    {
     "name": "stdout",
     "output_type": "stream",
     "text": [
      "[[[ 1  4  7 10]\n",
      "  [13 16 19 22]\n",
      "  [25 28 31 34]]\n",
      "\n",
      " [[37 40 43 46]\n",
      "  [49 52 55 58]\n",
      "  [61 64 67 70]]]\n"
     ]
    }
   ],
   "source": [
    "c = np.arange(1,72,3).reshape(2,3,4)\n",
    "print(c)"
   ]
  },
  {
   "cell_type": "markdown",
   "metadata": {},
   "source": [
    "In table form, this array looks like this: \n",
    "![image](https://raw.githubusercontent.com/amnh/BridgeUP-STEM-Oceans-Six/master/photos/Screen%20Shot%202018-11-07%20at%2011.28.01%20AM.png?token=AmUbDkvrUr9WOl3dMf3WN4OD_tu96Yeiks5b7ajvwA%3D%3D)"
   ]
  },
  {
   "cell_type": "markdown",
   "metadata": {},
   "source": [
    "1. What code can you write to return the value '49'?\n",
    "2. What code can you write to return the third row in the first group?\n",
    "3. What code can you write to return the values '55' and '58'?\n",
    "\n",
    "If you're stuck, think about the intersections required to find each one of these values! What combination of rows, columns and groups are necessary?"
   ]
  },
  {
   "cell_type": "code",
   "execution_count": 9,
   "metadata": {},
   "outputs": [],
   "source": [
    "# 1. "
   ]
  },
  {
   "cell_type": "code",
   "execution_count": 8,
   "metadata": {},
   "outputs": [],
   "source": [
    "# 2. "
   ]
  },
  {
   "cell_type": "code",
   "execution_count": 7,
   "metadata": {},
   "outputs": [],
   "source": [
    "# 3. "
   ]
  },
  {
   "cell_type": "markdown",
   "metadata": {},
   "source": [
    "![divider](https://www.trzcacak.rs/file/max/96/964354_white-divider-line-png.png)"
   ]
  },
  {
   "cell_type": "markdown",
   "metadata": {},
   "source": [
    "### Cheat sheet/Some general tips to select the appropriate part of the array:"
   ]
  },
  {
   "cell_type": "code",
   "execution_count": 16,
   "metadata": {},
   "outputs": [
    {
     "ename": "NameError",
     "evalue": "name 'b' is not defined",
     "output_type": "error",
     "traceback": [
      "\u001b[0;31m---------------------------------------------------------------------------\u001b[0m",
      "\u001b[0;31mNameError\u001b[0m                                 Traceback (most recent call last)",
      "\u001b[0;32m<ipython-input-16-c9f327355e90>\u001b[0m in \u001b[0;36m<module>\u001b[0;34m()\u001b[0m\n\u001b[1;32m      8\u001b[0m \u001b[0;34m\u001b[0m\u001b[0m\n\u001b[1;32m      9\u001b[0m \u001b[0;31m#2D arrays\u001b[0m\u001b[0;34m\u001b[0m\u001b[0;34m\u001b[0m\u001b[0m\n\u001b[0;32m---> 10\u001b[0;31m \u001b[0mb\u001b[0m\u001b[0;34m[\u001b[0m\u001b[0;34m:\u001b[0m\u001b[0;34m,\u001b[0m\u001b[0;34m:\u001b[0m\u001b[0;34m]\u001b[0m \u001b[0;31m#This command selects all rows and all columns\u001b[0m\u001b[0;34m\u001b[0m\u001b[0m\n\u001b[0m\u001b[1;32m     11\u001b[0m \u001b[0mb\u001b[0m\u001b[0;34m[\u001b[0m\u001b[0;34m:\u001b[0m\u001b[0;34m,\u001b[0m\u001b[0;36m0\u001b[0m\u001b[0;34m]\u001b[0m \u001b[0;31m#This command selects all rows, and the zeroth column\u001b[0m\u001b[0;34m\u001b[0m\u001b[0m\n\u001b[1;32m     12\u001b[0m \u001b[0mb\u001b[0m\u001b[0;34m[\u001b[0m\u001b[0;36m0\u001b[0m\u001b[0;34m,\u001b[0m\u001b[0;34m:\u001b[0m\u001b[0;34m]\u001b[0m \u001b[0;31m#This command selects the zeroth row, and all columns in that row\u001b[0m\u001b[0;34m\u001b[0m\u001b[0m\n",
      "\u001b[0;31mNameError\u001b[0m: name 'b' is not defined"
     ]
    }
   ],
   "source": [
    "# Remember, all arrays begin at the 0 index! So a[0] picks the first element, a[1] picks the *second*, and so on\n",
    "\n",
    "#1D arrays\n",
    "a[:] # This command selects everything\n",
    "a[2:5] # This commands selects the 2nd through the 4th rows (does not include the 5th row).\n",
    "    #The numbers inside the brackets can be changed to select whatever elements you want. \n",
    "\n",
    "    \n",
    "#2D arrays\n",
    "b[:,:] #This command selects all rows and all columns\n",
    "b[:,0] #This command selects all rows, and the zeroth column\n",
    "b[0,:] #This command selects the zeroth row, and all columns in that row\n",
    "b[0:2,:] #This column selects the zeroth and first row, but NOT the second. It includes all the columns in that row\n",
    "\n",
    "#3D arrays\n",
    "c[:,:,:] #This command selects everything.\n",
    "# Technically, the first dimension is known as the row, the second as column and the third as depth... \n",
    "#but I find that confusing. We'll call the first dimension the \"group,\" the second \"row,\" and third, \"column\" (as usual).\n",
    "c[0,:,:] #This command selects the 0th group, and all rows/columns in that group\n",
    "c[:,0,:] #This command selects the 0th row from every group\n",
    "c[:,:,0] #This command selects the 0th row from every group\n",
    "c.shape #Tells you the shape of your array. The first value is the size of the first dimension, and so on"
   ]
  },
  {
   "cell_type": "code",
   "execution_count": null,
   "metadata": {},
   "outputs": [],
   "source": []
  }
 ],
 "metadata": {
  "kernelspec": {
   "display_name": "Python 3",
   "language": "python",
   "name": "python3"
  },
  "language_info": {
   "codemirror_mode": {
    "name": "ipython",
    "version": 3
   },
   "file_extension": ".py",
   "mimetype": "text/x-python",
   "name": "python",
   "nbconvert_exporter": "python",
   "pygments_lexer": "ipython3",
   "version": "3.7.3"
  }
 },
 "nbformat": 4,
 "nbformat_minor": 2
}
