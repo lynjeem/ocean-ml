{
 "cells": [
  {
   "cell_type": "markdown",
   "metadata": {},
   "source": [
    "We probably remember that we are working with 4-d data, where the dimensions are TIME x DEPTH x LAT x LON. \n",
    "\n",
    "The goal for this notebook is to loop through all the times and write the dates in YEARMONTHDAY format. "
   ]
  },
  {
   "cell_type": "code",
<<<<<<< HEAD
   "execution_count": 1,
=======
   "execution_count": null,
>>>>>>> caca66b25d0765d43e395e59d3f46ffc4514d986
   "metadata": {},
   "outputs": [],
   "source": [
    "import numpy as np\n",
    "from netCDF4 import Dataset\n",
    "import datetime as td"
   ]
  },
  {
   "cell_type": "markdown",
   "metadata": {},
   "source": [
    "Before we look at our data, here is an example of working with date and timedelta. Say you want to find out the date 10 years after March 9th, 2020:"
   ]
  },
  {
   "cell_type": "code",
<<<<<<< HEAD
   "execution_count": 2,
   "metadata": {},
   "outputs": [
    {
     "name": "stdout",
     "output_type": "stream",
     "text": [
      "2020-03-09\n"
     ]
    }
   ],
=======
   "execution_count": null,
   "metadata": {},
   "outputs": [],
>>>>>>> caca66b25d0765d43e395e59d3f46ffc4514d986
   "source": [
    "march_9_2020 = td.date(2020,3,9)\n",
    "print(march_9_2020)"
   ]
  },
  {
   "cell_type": "code",
<<<<<<< HEAD
   "execution_count": 3,
=======
   "execution_count": null,
>>>>>>> caca66b25d0765d43e395e59d3f46ffc4514d986
   "metadata": {},
   "outputs": [],
   "source": [
    "ten_years = td.timedelta(days =10*365) # this doesn't consider leap years"
   ]
  },
  {
   "cell_type": "code",
<<<<<<< HEAD
   "execution_count": 4,
   "metadata": {},
   "outputs": [
    {
     "name": "stdout",
     "output_type": "stream",
     "text": [
      "2030-03-07\n"
     ]
    }
   ],
=======
   "execution_count": null,
   "metadata": {},
   "outputs": [],
>>>>>>> caca66b25d0765d43e395e59d3f46ffc4514d986
   "source": [
    "date_in_10_years = ten_years + march_9_2020\n",
    "print(date_in_10_years)"
   ]
  },
  {
   "cell_type": "markdown",
   "metadata": {},
   "source": [
    "-------------------\n",
    "# Now let's look at our data\n",
    "\n",
    "The first thing is to import the dataset as a Dataset object"
   ]
  },
  {
   "cell_type": "code",
<<<<<<< HEAD
   "execution_count": 5,
   "metadata": {},
   "outputs": [],
   "source": [
    "#do that here:\n",
    "dataset = Dataset(r\"/Users/brownscholar/Documents/Dataset/dataset-armor-3d-rep-weekly_1574699840388.nc\")\n"
=======
   "execution_count": null,
   "metadata": {},
   "outputs": [],
   "source": [
    "#do that here:\n"
>>>>>>> caca66b25d0765d43e395e59d3f46ffc4514d986
   ]
  },
  {
   "cell_type": "markdown",
   "metadata": {},
   "source": [
    "Then we want to read in the time variable. Do that here:"
   ]
  },
  {
   "cell_type": "code",
<<<<<<< HEAD
   "execution_count": 7,
   "metadata": {},
   "outputs": [],
   "source": [
    "# do that here: \n",
    "time = dataset['time']"
=======
   "execution_count": null,
   "metadata": {},
   "outputs": [],
   "source": [
    "# do that here: \n"
>>>>>>> caca66b25d0765d43e395e59d3f46ffc4514d986
   ]
  },
  {
   "cell_type": "markdown",
   "metadata": {},
   "source": [
    "Print the shape of the time variable:"
   ]
  },
  {
   "cell_type": "code",
<<<<<<< HEAD
   "execution_count": 8,
   "metadata": {},
   "outputs": [
    {
     "data": {
      "text/plain": [
       "(1356,)"
      ]
     },
     "execution_count": 8,
     "metadata": {},
     "output_type": "execute_result"
    }
   ],
   "source": [
    "# do that here:\n",
    "\n",
    "time.shape"
=======
   "execution_count": null,
   "metadata": {},
   "outputs": [],
   "source": [
    "# do that here:\n"
>>>>>>> caca66b25d0765d43e395e59d3f46ffc4514d986
   ]
  },
  {
   "cell_type": "markdown",
   "metadata": {},
   "source": [
    "Before we start using datetime, in terminal (open a new window or tab) look at the units of time. Using this info, define a start date:"
   ]
  },
  {
   "cell_type": "code",
<<<<<<< HEAD
   "execution_count": 9,
   "metadata": {},
   "outputs": [
    {
     "name": "stdout",
     "output_type": "stream",
     "text": [
      "1950-01-01\n"
     ]
    }
   ],
   "source": [
    "# do this here\n",
    "start_date = td.date(1950,1,1)\n",
    "print(start_date)"
=======
   "execution_count": null,
   "metadata": {},
   "outputs": [],
   "source": [
    "# do this here"
>>>>>>> caca66b25d0765d43e395e59d3f46ffc4514d986
   ]
  },
  {
   "cell_type": "markdown",
   "metadata": {},
   "source": [
    "Now, looping through the time numpy array, calculate and print the date using timedelta:"
   ]
  },
  {
   "cell_type": "code",
<<<<<<< HEAD
   "execution_count": 11,
   "metadata": {},
   "outputs": [
    {
     "ename": "SyntaxError",
     "evalue": "invalid syntax (<ipython-input-11-9de4a9ab87e8>, line 3)",
     "output_type": "error",
     "traceback": [
      "\u001b[0;36m  File \u001b[0;32m\"<ipython-input-11-9de4a9ab87e8>\"\u001b[0;36m, line \u001b[0;32m3\u001b[0m\n\u001b[0;31m    for i in time[:]\u001b[0m\n\u001b[0m                    ^\u001b[0m\n\u001b[0;31mSyntaxError\u001b[0m\u001b[0;31m:\u001b[0m invalid syntax\n"
     ]
    }
   ],
   "source": [
    "# do this here\n",
    "hours = i\n",
    "for i in time[:]\n",
    "\n"
=======
   "execution_count": null,
   "metadata": {},
   "outputs": [],
   "source": [
    "# do this here"
>>>>>>> caca66b25d0765d43e395e59d3f46ffc4514d986
   ]
  },
  {
   "cell_type": "markdown",
   "metadata": {},
   "source": [
    "--------------------\n",
    "# Finally,\n",
    "we want to turn these date objects into strings that are of the form YEARMONTHDAY. Here is an example of how to do this using the ``march_9_2020`` date we made before:"
   ]
  },
  {
   "cell_type": "code",
   "execution_count": null,
   "metadata": {},
   "outputs": [],
   "source": [
    "print(march_9_2020.strftime(\"%y\") + march_9_2020.strftime(\"%m\") + march_9_2020.strftime(\"%d\"))\n",
    "\n",
    "# if this is confusing to you google the function \"strftime\" "
   ]
  },
  {
   "cell_type": "markdown",
   "metadata": {},
   "source": [
    "Add this to your loop and print the YEARMONTHDAY date for each date."
   ]
  },
  {
   "cell_type": "markdown",
   "metadata": {},
   "source": [
    "Now: How can we add this to our code to change our file names? "
   ]
  },
  {
   "cell_type": "code",
   "execution_count": null,
   "metadata": {},
   "outputs": [],
   "source": []
  }
 ],
 "metadata": {
  "kernelspec": {
<<<<<<< HEAD
   "display_name": "Python 3",
   "language": "python",
   "name": "python3"
=======
   "display_name": "Python 2",
   "language": "python",
   "name": "python2"
>>>>>>> caca66b25d0765d43e395e59d3f46ffc4514d986
  },
  "language_info": {
   "codemirror_mode": {
    "name": "ipython",
<<<<<<< HEAD
    "version": 3
=======
    "version": 2
>>>>>>> caca66b25d0765d43e395e59d3f46ffc4514d986
   },
   "file_extension": ".py",
   "mimetype": "text/x-python",
   "name": "python",
   "nbconvert_exporter": "python",
<<<<<<< HEAD
   "pygments_lexer": "ipython3",
   "version": "3.7.3"
=======
   "pygments_lexer": "ipython2",
   "version": "2.7.16"
>>>>>>> caca66b25d0765d43e395e59d3f46ffc4514d986
  }
 },
 "nbformat": 4,
 "nbformat_minor": 2
}
