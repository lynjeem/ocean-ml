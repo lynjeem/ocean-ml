{
 "cells": [
  {
   "cell_type": "markdown",
   "metadata": {},
   "source": [
    "* We are writing 3-d numpy arrays into a list, essentially\n",
    "* This list is then being read by the fortran code back into a 3-d object\n",
    "* We need to make sure we are writing in the same order we are reading\n",
    "\n",
    "Here is an example:\n"
   ]
  },
  {
   "cell_type": "code",
   "execution_count": null,
   "metadata": {},
   "outputs": [],
   "source": [
    "import numpy as np\n",
    "array = np.arange(0,3*4*2*3,3).reshape(3,4,2)\n",
    "print(array)"
   ]
  },
  {
   "cell_type": "markdown",
   "metadata": {},
   "source": [
    "This array has shape (3,4,2). Verify this by printing the shape of this array:"
   ]
  },
  {
   "cell_type": "code",
   "execution_count": null,
   "metadata": {},
   "outputs": [],
   "source": [
    "# do this here:"
   ]
  },
  {
   "cell_type": "markdown",
   "metadata": {},
   "source": [
    "To convert this from an array to a list that we can write to file, we need to loop through the list. However, we can do this in a few ways. Here are two ways:"
   ]
  },
  {
   "cell_type": "code",
   "execution_count": null,
   "metadata": {},
   "outputs": [],
   "source": [
    "# way 1:\n",
    "for i in range(0,2):\n",
    "    for j in range(0,3):\n",
    "        for k in range(0,4):\n",
    "            print(array[j,k,i]) \n",
    "            # note that j goes from 0 to 3, so we put it in the column that has shape 3\n",
    "            # same for k and i"
   ]
  },
  {
   "cell_type": "code",
   "execution_count": null,
   "metadata": {},
   "outputs": [],
   "source": [
    "# way 2:\n",
    "for k in range(0,4):\n",
    "    for i in range(0,2):\n",
    "        for j in range(0,3):    \n",
    "            print(array[j,k,i])\n"
   ]
  },
  {
   "cell_type": "code",
   "execution_count": null,
   "metadata": {},
   "outputs": [],
   "source": [
    "# write another way here:\n"
   ]
  },
  {
   "cell_type": "markdown",
   "metadata": {},
   "source": [
    "Note that these print in different orders. If we had a function that was reading these values back into a numpy array, they would end up with different numpy arrays depending on the order that the values are read in. \n",
    "\n",
    "To illustrate this let's look at this example. First let's write the values from the array to a list, kind of like in our work we are writing the values to a file:"
   ]
  },
  {
   "cell_type": "code",
   "execution_count": null,
   "metadata": {},
   "outputs": [],
   "source": [
    "empty_array = np.zeros((3,4,2))\n",
    "my_list = []\n",
    "for i in range(0,2):\n",
    "    for j in range(0,3):\n",
    "        for k in range(0,4):\n",
    "            my_list.append(array[j,k,i]) "
   ]
  },
  {
   "cell_type": "markdown",
   "metadata": {},
   "source": [
    "Let's take a look at what's in the list:"
   ]
  },
  {
   "cell_type": "code",
   "execution_count": null,
   "metadata": {},
   "outputs": [],
   "source": [
    "print(my_list)"
   ]
  },
  {
   "cell_type": "markdown",
   "metadata": {},
   "source": [
    "Now let's read from the list into our ``empty_array`` variable using a triple-nested for loop:"
   ]
  },
  {
   "cell_type": "code",
   "execution_count": null,
   "metadata": {},
   "outputs": [],
   "source": [
    "l= 0\n",
    "for k in range(0,4):\n",
    "    for i in range(0,2):\n",
    "        for j in range(0,3):\n",
    "            empty_array[j,k,i]= int(my_list[l])\n",
    "            l+=1"
   ]
  },
  {
   "cell_type": "markdown",
   "metadata": {},
   "source": [
    "Now let's look at our filled array:"
   ]
  },
  {
   "cell_type": "code",
   "execution_count": null,
   "metadata": {},
   "outputs": [],
   "source": [
    "print(empty_array)"
   ]
  },
  {
   "cell_type": "markdown",
   "metadata": {},
   "source": [
    "... And our original array:"
   ]
  },
  {
   "cell_type": "code",
   "execution_count": null,
   "metadata": {},
   "outputs": [],
   "source": [
    "print(array)"
   ]
  },
  {
   "cell_type": "markdown",
   "metadata": {},
   "source": [
    "These have totally different values because they were written and read in different orders. Can you make changes to the order the values are read so that empty_array is the same as array? Do that here: (Hint: you will have to go look at the order my_list is written to)"
   ]
  },
  {
   "cell_type": "code",
   "execution_count": null,
   "metadata": {},
   "outputs": [],
   "source": [
    "# modify this code: \n",
    "l= 0\n",
    "for k in range(0,4):\n",
    "    for i in range(0,2):\n",
    "        for j in range(0,3):\n",
    "            empty_array[j,k,i]= int(my_list[l])\n",
    "            l+=1"
   ]
  },
  {
   "cell_type": "code",
   "execution_count": null,
   "metadata": {},
   "outputs": [],
   "source": [
    "print(empty_array)"
   ]
  },
  {
   "cell_type": "code",
   "execution_count": null,
   "metadata": {},
   "outputs": [],
   "source": []
  }
 ],
 "metadata": {
  "kernelspec": {
   "display_name": "Python 3",
   "language": "python",
   "name": "python3"
  },
  "language_info": {
   "codemirror_mode": {
    "name": "ipython",
    "version": 3
   },
   "file_extension": ".py",
   "mimetype": "text/x-python",
   "name": "python",
   "nbconvert_exporter": "python",
   "pygments_lexer": "ipython3",
   "version": "3.5.6"
  }
 },
 "nbformat": 4,
 "nbformat_minor": 2
}
