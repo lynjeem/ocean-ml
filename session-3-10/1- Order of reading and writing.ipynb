{
 "cells": [
  {
   "cell_type": "markdown",
   "metadata": {},
   "source": [
    "* We are writing 3-d numpy arrays into a list, essentially\n",
    "* This list is then being read by the fortran code back into a 3-d object\n",
    "* We need to make sure we are writing in the same order we are reading\n",
    "\n",
    "Here is an example:\n"
   ]
  },
  {
   "cell_type": "code",
<<<<<<< HEAD
   "execution_count": 2,
   "metadata": {},
   "outputs": [
    {
     "name": "stdout",
     "output_type": "stream",
     "text": [
      "[[[ 0  3]\n",
      "  [ 6  9]\n",
      "  [12 15]\n",
      "  [18 21]]\n",
      "\n",
      " [[24 27]\n",
      "  [30 33]\n",
      "  [36 39]\n",
      "  [42 45]]\n",
      "\n",
      " [[48 51]\n",
      "  [54 57]\n",
      "  [60 63]\n",
      "  [66 69]]]\n"
     ]
    }
   ],
=======
   "execution_count": null,
   "metadata": {},
   "outputs": [],
>>>>>>> caca66b25d0765d43e395e59d3f46ffc4514d986
   "source": [
    "import numpy as np\n",
    "array = np.arange(0,3*4*2*3,3).reshape(3,4,2)\n",
    "print(array)"
   ]
  },
  {
   "cell_type": "markdown",
   "metadata": {},
   "source": [
    "This array has shape (3,4,2). Verify this by printing the shape of this array:"
   ]
  },
  {
   "cell_type": "code",
<<<<<<< HEAD
   "execution_count": 3,
   "metadata": {},
   "outputs": [
    {
     "data": {
      "text/plain": [
       "(3, 4, 2)"
      ]
     },
     "execution_count": 3,
     "metadata": {},
     "output_type": "execute_result"
    }
   ],
   "source": [
    "# do this here:\n",
    "array.shape"
=======
   "execution_count": null,
   "metadata": {},
   "outputs": [],
   "source": [
    "# do this here:"
>>>>>>> caca66b25d0765d43e395e59d3f46ffc4514d986
   ]
  },
  {
   "cell_type": "markdown",
   "metadata": {},
   "source": [
    "To convert this from an array to a list that we can write to file, we need to loop through the list. However, we can do this in a few ways. Here are two ways:"
   ]
  },
  {
   "cell_type": "code",
<<<<<<< HEAD
   "execution_count": 4,
   "metadata": {},
   "outputs": [
    {
     "name": "stdout",
     "output_type": "stream",
     "text": [
      "0\n",
      "6\n",
      "12\n",
      "18\n",
      "24\n",
      "30\n",
      "36\n",
      "42\n",
      "48\n",
      "54\n",
      "60\n",
      "66\n",
      "3\n",
      "9\n",
      "15\n",
      "21\n",
      "27\n",
      "33\n",
      "39\n",
      "45\n",
      "51\n",
      "57\n",
      "63\n",
      "69\n"
     ]
    }
   ],
=======
   "execution_count": null,
   "metadata": {},
   "outputs": [],
>>>>>>> caca66b25d0765d43e395e59d3f46ffc4514d986
   "source": [
    "# way 1:\n",
    "for i in range(0,2):\n",
    "    for j in range(0,3):\n",
    "        for k in range(0,4):\n",
    "            print(array[j,k,i]) \n",
    "            # note that j goes from 0 to 3, so we put it in the column that has shape 3\n",
    "            # same for k and i"
   ]
  },
  {
   "cell_type": "code",
<<<<<<< HEAD
   "execution_count": 5,
   "metadata": {},
   "outputs": [
    {
     "name": "stdout",
     "output_type": "stream",
     "text": [
      "0\n",
      "24\n",
      "48\n",
      "3\n",
      "27\n",
      "51\n",
      "6\n",
      "30\n",
      "54\n",
      "9\n",
      "33\n",
      "57\n",
      "12\n",
      "36\n",
      "60\n",
      "15\n",
      "39\n",
      "63\n",
      "18\n",
      "42\n",
      "66\n",
      "21\n",
      "45\n",
      "69\n"
     ]
    }
   ],
=======
   "execution_count": null,
   "metadata": {},
   "outputs": [],
>>>>>>> caca66b25d0765d43e395e59d3f46ffc4514d986
   "source": [
    "# way 2:\n",
    "for k in range(0,4):\n",
    "    for i in range(0,2):\n",
    "        for j in range(0,3):    \n",
    "            print(array[j,k,i])\n"
   ]
  },
  {
   "cell_type": "code",
<<<<<<< HEAD
   "execution_count": 10,
   "metadata": {},
   "outputs": [
    {
     "name": "stdout",
     "output_type": "stream",
     "text": [
      "0\n",
      "6\n",
      "12\n",
      "24\n",
      "30\n",
      "36\n"
     ]
    }
   ],
   "source": [
    "# write another way here:\n",
    "for l in range(0,2):\n",
    "    for m in range(0,3):\n",
    "        for j in range(0,1):\n",
    "            print(array[l,m,j])"
=======
   "execution_count": null,
   "metadata": {},
   "outputs": [],
   "source": [
    "# write another way here:\n"
>>>>>>> caca66b25d0765d43e395e59d3f46ffc4514d986
   ]
  },
  {
   "cell_type": "markdown",
   "metadata": {},
   "source": [
    "Note that these print in different orders. If we had a function that was reading these values back into a numpy array, they would end up with different numpy arrays depending on the order that the values are read in. \n",
    "\n",
    "To illustrate this let's look at this example. First let's write the values from the array to a list, kind of like in our work we are writing the values to a file:"
   ]
  },
  {
   "cell_type": "code",
<<<<<<< HEAD
   "execution_count": 11,
=======
   "execution_count": null,
>>>>>>> caca66b25d0765d43e395e59d3f46ffc4514d986
   "metadata": {},
   "outputs": [],
   "source": [
    "empty_array = np.zeros((3,4,2))\n",
    "my_list = []\n",
    "for i in range(0,2):\n",
    "    for j in range(0,3):\n",
    "        for k in range(0,4):\n",
    "            my_list.append(array[j,k,i]) "
   ]
  },
  {
   "cell_type": "markdown",
   "metadata": {},
   "source": [
    "Let's take a look at what's in the list:"
   ]
  },
  {
   "cell_type": "code",
<<<<<<< HEAD
   "execution_count": 12,
   "metadata": {},
   "outputs": [
    {
     "name": "stdout",
     "output_type": "stream",
     "text": [
      "[0, 6, 12, 18, 24, 30, 36, 42, 48, 54, 60, 66, 3, 9, 15, 21, 27, 33, 39, 45, 51, 57, 63, 69]\n"
     ]
    }
   ],
=======
   "execution_count": null,
   "metadata": {},
   "outputs": [],
>>>>>>> caca66b25d0765d43e395e59d3f46ffc4514d986
   "source": [
    "print(my_list)"
   ]
  },
  {
   "cell_type": "markdown",
   "metadata": {},
   "source": [
    "Now let's read from the list into our ``empty_array`` variable using a triple-nested for loop:"
   ]
  },
  {
   "cell_type": "code",
<<<<<<< HEAD
   "execution_count": 13,
=======
   "execution_count": null,
>>>>>>> caca66b25d0765d43e395e59d3f46ffc4514d986
   "metadata": {},
   "outputs": [],
   "source": [
    "l= 0\n",
    "for k in range(0,4):\n",
    "    for i in range(0,2):\n",
    "        for j in range(0,3):\n",
    "            empty_array[j,k,i]= int(my_list[l])\n",
    "            l+=1"
   ]
  },
  {
   "cell_type": "markdown",
   "metadata": {},
   "source": [
    "Now let's look at our filled array:"
   ]
  },
  {
   "cell_type": "code",
<<<<<<< HEAD
   "execution_count": 14,
   "metadata": {},
   "outputs": [
    {
     "name": "stdout",
     "output_type": "stream",
     "text": [
      "[[[ 0. 18.]\n",
      "  [36. 54.]\n",
      "  [ 3. 21.]\n",
      "  [39. 57.]]\n",
      "\n",
      " [[ 6. 24.]\n",
      "  [42. 60.]\n",
      "  [ 9. 27.]\n",
      "  [45. 63.]]\n",
      "\n",
      " [[12. 30.]\n",
      "  [48. 66.]\n",
      "  [15. 33.]\n",
      "  [51. 69.]]]\n"
     ]
    }
   ],
=======
   "execution_count": null,
   "metadata": {},
   "outputs": [],
>>>>>>> caca66b25d0765d43e395e59d3f46ffc4514d986
   "source": [
    "print(empty_array)"
   ]
  },
  {
   "cell_type": "markdown",
   "metadata": {},
   "source": [
    "... And our original array:"
   ]
  },
  {
   "cell_type": "code",
<<<<<<< HEAD
   "execution_count": 15,
   "metadata": {},
   "outputs": [
    {
     "name": "stdout",
     "output_type": "stream",
     "text": [
      "[[[ 0  3]\n",
      "  [ 6  9]\n",
      "  [12 15]\n",
      "  [18 21]]\n",
      "\n",
      " [[24 27]\n",
      "  [30 33]\n",
      "  [36 39]\n",
      "  [42 45]]\n",
      "\n",
      " [[48 51]\n",
      "  [54 57]\n",
      "  [60 63]\n",
      "  [66 69]]]\n"
     ]
    }
   ],
=======
   "execution_count": null,
   "metadata": {},
   "outputs": [],
>>>>>>> caca66b25d0765d43e395e59d3f46ffc4514d986
   "source": [
    "print(array)"
   ]
  },
  {
   "cell_type": "markdown",
   "metadata": {},
   "source": [
    "These have totally different values because they were written and read in different orders. Can you make changes to the order the values are read so that empty_array is the same as array? Do that here: (Hint: you will have to go look at the order my_list is written to)"
   ]
  },
  {
   "cell_type": "code",
<<<<<<< HEAD
   "execution_count": 16,
=======
   "execution_count": null,
>>>>>>> caca66b25d0765d43e395e59d3f46ffc4514d986
   "metadata": {},
   "outputs": [],
   "source": [
    "# modify this code: \n",
    "l= 0\n",
    "for k in range(0,4):\n",
    "    for i in range(0,2):\n",
    "        for j in range(0,3):\n",
    "            empty_array[j,k,i]= int(my_list[l])\n",
    "            l+=1"
   ]
  },
  {
   "cell_type": "code",
<<<<<<< HEAD
   "execution_count": 17,
   "metadata": {},
   "outputs": [
    {
     "name": "stdout",
     "output_type": "stream",
     "text": [
      "[[[ 0. 18.]\n",
      "  [36. 54.]\n",
      "  [ 3. 21.]\n",
      "  [39. 57.]]\n",
      "\n",
      " [[ 6. 24.]\n",
      "  [42. 60.]\n",
      "  [ 9. 27.]\n",
      "  [45. 63.]]\n",
      "\n",
      " [[12. 30.]\n",
      "  [48. 66.]\n",
      "  [15. 33.]\n",
      "  [51. 69.]]]\n"
     ]
    }
   ],
=======
   "execution_count": null,
   "metadata": {},
   "outputs": [],
>>>>>>> caca66b25d0765d43e395e59d3f46ffc4514d986
   "source": [
    "print(empty_array)"
   ]
  },
  {
   "cell_type": "code",
   "execution_count": null,
   "metadata": {},
   "outputs": [],
   "source": []
  }
 ],
 "metadata": {
  "kernelspec": {
<<<<<<< HEAD
   "display_name": "Python 3",
   "language": "python",
   "name": "python3"
=======
   "display_name": "Python 2",
   "language": "python",
   "name": "python2"
>>>>>>> caca66b25d0765d43e395e59d3f46ffc4514d986
  },
  "language_info": {
   "codemirror_mode": {
    "name": "ipython",
<<<<<<< HEAD
    "version": 3
=======
    "version": 2
>>>>>>> caca66b25d0765d43e395e59d3f46ffc4514d986
   },
   "file_extension": ".py",
   "mimetype": "text/x-python",
   "name": "python",
   "nbconvert_exporter": "python",
<<<<<<< HEAD
   "pygments_lexer": "ipython3",
   "version": "3.7.3"
=======
   "pygments_lexer": "ipython2",
   "version": "2.7.16"
>>>>>>> caca66b25d0765d43e395e59d3f46ffc4514d986
  }
 },
 "nbformat": 4,
 "nbformat_minor": 2
}
